{
 "cells": [
  {
   "cell_type": "code",
   "execution_count": 13,
   "metadata": {},
   "outputs": [],
   "source": [
    "import pandas as pd\n",
    "\n",
    "OUTPUT_LOCATION = \"../exec/output\"\n",
    "FILENAME = \"energies.csv\"  # Path to target file\n",
    "\n",
    "\n",
    "# Read energy values from .csv file\n",
    "energy_data = pd.read_csv(f\"{OUTPUT_LOCATION}/{FILENAME}\")\n",
    "\n",
    "time = energy_data[\"t\"]\n",
    "kinetic_energy = energy_data[\"Ek\"]\n",
    "potential_energy = energy_data[\"Ep\"]\n",
    "total_energy = energy_data[\"Etotal\"]"
   ]
  },
  {
   "cell_type": "code",
   "execution_count": null,
   "metadata": {},
   "outputs": [],
   "source": [
    "import matplotlib.pyplot as plt\n",
    "\n",
    "plt.plot(time, total_energy, label=\"Total Energy\")\n",
    "plt.plot(time, kinetic_energy, label=\"Kinetic Energy\")\n",
    "plt.plot(time, potential_energy, label=\"Potential Energy\")\n",
    "\n",
    "plt.title(\"Energy\")\n",
    "plt.xlabel(\"Time (s)\")\n",
    "plt.ylabel(\"Energy (J)\")\n",
    "\n",
    "plt.legend()\n",
    "plt.show()"
   ]
  }
 ],
 "metadata": {
  "kernelspec": {
   "display_name": "Python 3",
   "language": "python",
   "name": "python3"
  },
  "language_info": {
   "codemirror_mode": {
    "name": "ipython",
    "version": 3
   },
   "file_extension": ".py",
   "mimetype": "text/x-python",
   "name": "python",
   "nbconvert_exporter": "python",
   "pygments_lexer": "ipython3",
   "version": "3.11.4"
  }
 },
 "nbformat": 4,
 "nbformat_minor": 2
}
