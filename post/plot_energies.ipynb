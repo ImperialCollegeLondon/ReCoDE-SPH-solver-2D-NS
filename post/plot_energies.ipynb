{
 "cells": [
  {
   "cell_type": "code",
   "execution_count": null,
   "metadata": {},
   "outputs": [],
   "source": [
    "import numpy as np\n",
    "from itertools import islice\n",
    "\n",
    "def read_txt_file(file_path, skip_rows=1):\n",
    "    # Initialize empty lists for each column\n",
    "    col1, col2, col3, col4 = [], [], [], []\n",
    "\n",
    "    # Read the file line by line, skipping the first 'skip_rows' lines\n",
    "    with open(file_path, 'r') as file:\n",
    "        for line in islice(file, skip_rows, None):\n",
    "            # Split the line into columns\n",
    "            columns = line.strip().split()\n",
    "\n",
    "            # Convert each column to float and append to the respective list\n",
    "            col1.append(float(columns[0]))\n",
    "            col2.append(float(columns[1]))\n",
    "            col3.append(float(columns[2]))\n",
    "            col4.append(float(columns[3]))\n",
    "\n",
    "    # Convert lists to NumPy arrays\n",
    "    np_col1 = np.array(col1)\n",
    "    np_col2 = np.array(col2)\n",
    "    np_col3 = np.array(col3)\n",
    "    np_col4 = np.array(col4)\n",
    "\n",
    "    return np_col1, np_col2, np_col3, np_col4\n",
    "\n",
    "# Specify the path to your text file\n",
    "file_path = '../exec/build/Energy-File.txt'\n",
    "\n",
    "# Specify the number of rows to skip (adjust as needed)\n",
    "skip_rows = 1\n",
    "\n",
    "# Call the function to read the file and skip the specified number of rows\n",
    "time, kinetic_energy, potential_energy, total_energy = read_txt_file(file_path, skip_rows)\n"
   ]
  },
  {
   "cell_type": "code",
   "execution_count": null,
   "metadata": {},
   "outputs": [],
   "source": [
    "import matplotlib.pyplot as plt\n",
    "\n",
    "plt.plot(time,total_energy, label='Total Energy')\n",
    "plt.plot(time,kinetic_energy, label='Kinetic Energy')\n",
    "plt.plot(time,potential_energy, label='Potential Energy')\n",
    "\n",
    "plt.xlabel('time (s)')\n",
    "plt.ylabel('Energy (J)')\n",
    "\n",
    "plt.legend()\n",
    "plt.show()"
   ]
  }
 ],
 "metadata": {
  "kernelspec": {
   "display_name": "Python 3",
   "language": "python",
   "name": "python3"
  },
  "language_info": {
   "codemirror_mode": {
    "name": "ipython",
    "version": 3
   },
   "file_extension": ".py",
   "mimetype": "text/x-python",
   "name": "python",
   "nbconvert_exporter": "python",
   "pygments_lexer": "ipython3",
   "version": "3.9.7"
  }
 },
 "nbformat": 4,
 "nbformat_minor": 2
}
