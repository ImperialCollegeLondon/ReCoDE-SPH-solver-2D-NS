{
  "cells": [
  {
   "cell_type": "code",
   "execution_count": 1,
   "metadata": {},
   "outputs": [],
   "source": [
    "def read_txt_file(file_path):\n",
    "    # Read file\n",
    "    with open(file_path, 'r') as file:\n",
    "        # Skip first line that holds the titles\n",
    "        next(file)\n",
    "\n",
    "        # Split line into columns\n",
    "        data = [line.split() for line in file]\n",
    "\n",
    "        col1, col2, col3, col4 = zip(*data)\n",
    "        \n",
    "        # Convert each column to float\n",
    "        col1_values = [float(value) for value in col1]\n",
    "        col2_values = [float(value) for value in col2]\n",
    "        col3_values = [float(value) for value in col3]\n",
    "        col4_values = [float(value) for value in col4]\n",
    "\n",
    "    return col1_values, col2_values, col3_values, col4_values\n",
    "\n",
    "output_location = \"../exec/output\"\n",
    "filename = 'energies.txt' # Path to target file\n",
    "\n",
    "time, kinetic_energy, potential_energy, total_energy = read_txt_file(f\"{output_location}/{filename}\")\n"
   ]
  },
  {
   "cell_type": "code",
   "execution_count": null,
   "metadata": {},
   "outputs": [],
   "source": [
    "import matplotlib.pyplot as plt\n",
    "\n",
    "plt.plot(time,total_energy, label=\"Total Energy\")\n",
    "plt.plot(time,kinetic_energy, label=\"Kinetic Energy\")\n",
    "plt.plot(time,potential_energy, label=\"Potential Energy\")\n",
    "\n",
    "plt.title(\"Energy\")\n",
    "plt.xlabel(\"Time (s)\")\n",
    "plt.ylabel(\"Energy (J)\")\n",
    "\n",
    "plt.legend()\n",
    "plt.show()"
   ]
  }
 ],
 "metadata": {
  "kernelspec": {
   "display_name": "Python 3",
   "language": "python",
   "name": "python3"
  },
  "language_info": {
   "codemirror_mode": {
    "name": "ipython",
    "version": 3
   },
   "file_extension": ".py",
   "mimetype": "text/x-python",
   "name": "python",
   "nbconvert_exporter": "python",
   "pygments_lexer": "ipython3",
   "version": "3.11.4"
  }
 },
 "nbformat": 4,
 "nbformat_minor": 2
}
