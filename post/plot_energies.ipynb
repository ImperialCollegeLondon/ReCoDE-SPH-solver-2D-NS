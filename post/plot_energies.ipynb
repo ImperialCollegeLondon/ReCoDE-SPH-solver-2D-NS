{
 "cells": [
  {
   "cell_type": "code",
   "execution_count": null,
   "metadata": {},
   "outputs": [],
   "source": [
    "import pandas as pd\n",
    "\n",
    "OUTPUT_LOCATION = \"../exec/output\"\n",
    "FILENAME = \"energies.csv\"  # Path to target file\n",
    "\n",
    "\n",
    "# Read energy values from .csv file\n",
    "energy_data = pd.read_csv(f\"{OUTPUT_LOCATION}/{FILENAME}\")\n",
    "\n",
    "time = energy_data[\"Timestamp\"]\n",
    "timestep = energy_data[\"Timestep\"]\n",
    "kinetic_energy = energy_data[\"Ek\"]\n",
    "potential_energy = energy_data[\"Ep\"]\n",
    "total_energy = energy_data[\"Etotal\"]"
   ]
  },
  {
   "cell_type": "code",
   "execution_count": null,
   "metadata": {},
   "outputs": [],
   "source": [
    "import matplotlib.pyplot as plt\n",
    "\n",
    "_, (nrg_ax, dt_ax) = plt.subplots(\n",
    "    1,\n",
    "    2,\n",
    "    figsize=(15, 5),\n",
    "    gridspec_kw={\"width_ratios\": [1, 1], \"height_ratios\": [1]},\n",
    ")\n",
    "\n",
    "nrg_ax.plot(time, total_energy, label=\"Total Energy\")\n",
    "nrg_ax.plot(time, kinetic_energy, label=\"Kinetic Energy\")\n",
    "nrg_ax.plot(time, potential_energy, label=\"Potential Energy\")\n",
    "\n",
    "nrg_ax.set_title(\"Energy\")\n",
    "nrg_ax.set_xlabel(\"Time (s)\")\n",
    "nrg_ax.set_ylabel(\"Energy (J)\")\n",
    "\n",
    "nrg_ax.legend()\n",
    "\n",
    "dt_ax.plot(time, timestep, label=\"Adaptive Timestep\")\n",
    "\n",
    "dt_ax.set_title(\"Adaptive Timestep\")\n",
    "dt_ax.set_xlabel(\"Time (s)\")\n",
    "dt_ax.set_ylabel(\"Timestep (dt)\")\n",
    "\n",
    "plt.show()"
   ]
  }
 ],
 "metadata": {
  "kernelspec": {
   "display_name": "Python 3",
   "language": "python",
   "name": "python3"
  },
  "language_info": {
   "codemirror_mode": {
    "name": "ipython",
    "version": 3
   },
   "file_extension": ".py",
   "mimetype": "text/x-python",
   "name": "python",
   "nbconvert_exporter": "python",
   "pygments_lexer": "ipython3",
   "version": "3.11.7"
  }
 },
 "nbformat": 4,
 "nbformat_minor": 2
}
