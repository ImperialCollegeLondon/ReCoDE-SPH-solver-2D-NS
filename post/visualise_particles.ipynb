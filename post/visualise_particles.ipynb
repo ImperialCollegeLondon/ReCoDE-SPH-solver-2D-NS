{
  "cells": [
    {
      "cell_type": "code",
      "execution_count": null,
      "metadata": {},
      "outputs": [],
      "source": [
        "import pandas as pd\n",
        "import matplotlib.pyplot as plt\n",
        "\n",
        "DOMAIN_FILE_LOCATION = \"../exec/input/domain.txt\"\n",
        "OUTPUT_LOCATION = \"../exec/output\"\n",
        "FILES = [\"initial-positions.csv\", \"final-positions.csv\"]  # Path to target files\n",
        "\n",
        "\n",
        "def get_axes_limits():\n",
        "    with open(DOMAIN_FILE_LOCATION) as f:\n",
        "        lines = f.readlines()\n",
        "        for line in lines:\n",
        "            if \"left_wall\" in line:\n",
        "                x_min = float(line.split()[2])\n",
        "            if \"right_wall\" in line:\n",
        "                x_max = float(line.split()[2])\n",
        "            if \"bottom_wall\" in line:\n",
        "                y_min = float(line.split()[2])\n",
        "            if \"top_wall\" in line:\n",
        "                y_max = float(line.split()[2])\n",
        "\n",
        "    return x_min, x_max, y_min, y_max\n",
        "\n",
        "\n",
        "for file in FILES:\n",
        "    position_data = pd.read_csv(f\"{OUTPUT_LOCATION}/{file}\")\n",
        "\n",
        "    position_x = position_data[\"Position_X\"]\n",
        "    position_y = position_data[\"Position_Y\"]    \n",
        "\n",
        "    x_min, x_max, y_min, y_max = get_axes_limits()\n",
        "    plt.xlim(x_min, x_max)  # Set x-axis limits from x_min to x_max\n",
        "    plt.ylim(y_min, y_max)  # Set y-axis limits from y_min to y_max\n",
        "\n",
        "    plt.scatter(position_x, position_y)\n",
        "    plt.title(f'{file.split(\"-\")[0].capitalize()} Positions')\n",
        "\n",
        "    plt.xlabel(\"Position x (m)\")\n",
        "    plt.ylabel(\"Position y (m)\")\n",
        "\n",
        "    plt.show()"
      ]
    }
  ],
  "metadata": {
    "kernelspec": {
      "display_name": "ct-env",
      "language": "python",
      "name": "python3"
    },
    "language_info": {
      "codemirror_mode": {
        "name": "ipython",
        "version": 3
      },
      "file_extension": ".py",
      "mimetype": "text/x-python",
      "name": "python",
      "nbconvert_exporter": "python",
      "pygments_lexer": "ipython3",
      "version": "3.10.2"
    }
  },
  "nbformat": 4,
  "nbformat_minor": 2
}
