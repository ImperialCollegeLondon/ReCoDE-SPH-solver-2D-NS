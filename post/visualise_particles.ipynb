{
  "cells": [
    {
      "cell_type": "code",
      "execution_count": null,
      "metadata": {},
      "outputs": [],
      "source": [
        "# clang-format off\n",
        "\n",
        "import matplotlib.pyplot as plt\n",
        "\n",
        "\n",
        "def read_txt_file(file_path):\n",
        "    # Read file\n",
        "    with open(file_path, \"r\") as file:\n",
        "        # Skip first line that holds the titles\n",
        "        next(file)\n",
        "\n",
        "        # Split line into columns\n",
        "        data = [line.split() for line in file]\n",
        "\n",
        "        col1, col2 = zip(*data)\n",
        "\n",
        "        # Convert each column to float\n",
        "        col1_values = [float(value) for value in col1]\n",
        "        col2_values = [float(value) for value in col2]\n",
        "\n",
        "    return col1_values, col2_values\n",
        "\n",
        "\n",
        "output_location = \"../exec/output\"\n",
        "\n",
        "files = [\"initial-positions.txt\", \"final-positions.txt\"]  # Path to target text file\n",
        "\n",
        "for file in files:\n",
        "    # Call the function to read the file and skip the specified number of rows\n",
        "    # initial_x, initial_y = read_txt_file(initial_positions, skip_rows)\n",
        "    position_x, position_y = read_txt_file(f\"{output_location}/{file}\")\n",
        "\n",
        "    plt.scatter(position_x, position_y)\n",
        "    plt.title(f'{file.split(\"-\")[0].capitalize()} Positions')\n",
        "\n",
        "    plt.xlabel(\"x(m)\")\n",
        "    plt.ylabel(\"y(m)\")\n",
        "\n",
        "    plt.show()"
      ]
    }
  ],
  "metadata": {
    "kernelspec": {
      "display_name": "ct-env",
      "language": "python",
      "name": "python3"
    },
    "language_info": {
      "codemirror_mode": {
        "name": "ipython",
        "version": 3
      },
      "file_extension": ".py",
      "mimetype": "text/x-python",
      "name": "python",
      "nbconvert_exporter": "python",
      "pygments_lexer": "ipython3",
      "version": "3.11.4"
    }
  },
  "nbformat": 4,
  "nbformat_minor": 2
}
