{
 "cells": [
  {
   "cell_type": "code",
   "execution_count": 1,
   "metadata": {},
   "outputs": [],
   "source": [
    "import numpy as np\n",
    "from itertools import islice\n",
    "\n",
    "def read_txt_file(file_path, skip_rows=1):\n",
    "    # Initialize empty lists for each column\n",
    "    col1, col2 = [], []\n",
    "\n",
    "    # Read the file line by line, skipping the first 'skip_rows' lines\n",
    "    with open(file_path, 'r') as file:\n",
    "        for line in islice(file, skip_rows, None):\n",
    "            # Split the line into columns\n",
    "            columns = line.strip().split()\n",
    "\n",
    "            # Convert each column to float and append to the respective list\n",
    "            col1.append(float(columns[0]))\n",
    "            col2.append(float(columns[1]))\n",
    "\n",
    "\n",
    "    # Convert lists to NumPy arrays\n",
    "    np_col1 = np.array(col1)\n",
    "    np_col2 = np.array(col2)\n",
    "\n",
    "\n",
    "    return np_col1, np_col2\n",
    "\n",
    "# Specify the path to your text file\n",
    "file_path = '../exec/build/Positions-x-y.txt'\n",
    "\n",
    "# Specify the number of rows to skip (adjust as needed)\n",
    "skip_rows = 1\n",
    "\n",
    "# Call the function to read the file and skip the specified number of rows\n",
    "x,y= read_txt_file(file_path, skip_rows)\n"
   ]
  },
  {
   "cell_type": "code",
   "execution_count": 2,
   "metadata": {},
   "outputs": [
    {
     "data": {
      "image/png": "[encoded data removed]",
      "text/plain": [
       "<Figure size 432x288 with 1 Axes>"
      ]
     },
     "metadata": {
      "needs_background": "light"
     },
     "output_type": "display_data"
    }
   ],
   "source": [
    "import matplotlib.pyplot as plt\n",
    "\n",
    "plt.scatter(x,y)\n",
    "\n",
    "plt.xlabel('x(m)')\n",
    "plt.ylabel('y(m)')\n",
    "\n",
    "plt.show()"
   ]
  }
 ],
 "metadata": {
  "kernelspec": {
   "display_name": "ct-env",
   "language": "python",
   "name": "python3"
  },
  "language_info": {
   "codemirror_mode": {
    "name": "ipython",
    "version": 3
   },
   "file_extension": ".py",
   "mimetype": "text/x-python",
   "name": "python",
   "nbconvert_exporter": "python",
   "pygments_lexer": "ipython3",
   "version": "3.9.7"
  }
 },
 "nbformat": 4,
 "nbformat_minor": 2
}
